{
 "cells": [
  {
   "cell_type": "code",
   "execution_count": 153,
   "metadata": {},
   "outputs": [],
   "source": [
    "from preprocess import *\n",
    "import keras\n",
    "from keras.models import Sequential\n",
    "from keras.layers import Dense, Dropout, Flatten, Conv2D, MaxPooling2D\n",
    "from keras.utils import to_categorical"
   ]
  },
  {
   "cell_type": "code",
   "execution_count": 185,
   "metadata": {
    "collapsed": true
   },
   "outputs": [],
   "source": [
    "X_train, X_test, y_train, y_test = get_train_test()\n",
    "X_train = X_train.reshape(X_train.shape[0], 20, 11, 1)\n",
    "X_test = X_test.reshape(X_test.shape[0], 20, 11, 1)"
   ]
  },
  {
   "cell_type": "code",
   "execution_count": 186,
   "metadata": {},
   "outputs": [
    {
     "name": "stdout",
     "output_type": "stream",
     "text": [
      "(3112, 20, 11, 1)\n"
     ]
    }
   ],
   "source": [
    "y_train_hot = to_categorical(y_train)\n",
    "y_test_hot = to_categorical(y_test)\n",
    "print(X_train.shape)"
   ]
  },
  {
   "cell_type": "code",
   "execution_count": 187,
   "metadata": {},
   "outputs": [],
   "source": [
    "model = Sequential()\n",
    "model.add(Conv2D(32, kernel_size=(2, 2), activation='relu', input_shape=(20, 11, 1)))\n",
    "model.add(MaxPooling2D(pool_size=(2, 2)))\n",
    "model.add(Dropout(0.25))\n",
    "model.add(Flatten())\n",
    "model.add(Dense(128, activation='relu'))\n",
    "model.add(Dropout(0.25))\n",
    "model.add(Dense(3, activation='softmax'))\n",
    "model.compile(loss=keras.losses.categorical_crossentropy,\n",
    "              optimizer=keras.optimizers.Adadelta(),\n",
    "              metrics=['accuracy'])"
   ]
  },
  {
   "cell_type": "code",
   "execution_count": 188,
   "metadata": {},
   "outputs": [
    {
     "name": "stdout",
     "output_type": "stream",
     "text": [
      "Train on 3112 samples, validate on 2076 samples\n",
      "Epoch 1/200\n",
      "3112/3112 [==============================] - 1s 212us/step - loss: 7.9257 - acc: 0.4036 - val_loss: 8.1002 - val_acc: 0.3940\n",
      "Epoch 2/200\n",
      "3112/3112 [==============================] - 0s 110us/step - loss: 5.9424 - acc: 0.5219 - val_loss: 5.5532 - val_acc: 0.5294\n",
      "Epoch 3/200\n",
      "3112/3112 [==============================] - 0s 106us/step - loss: 4.2923 - acc: 0.6025 - val_loss: 2.7492 - val_acc: 0.6696\n",
      "Epoch 4/200\n",
      "3112/3112 [==============================] - 0s 108us/step - loss: 3.2333 - acc: 0.6449 - val_loss: 1.7323 - val_acc: 0.7168\n",
      "Epoch 5/200\n",
      "3112/3112 [==============================] - 0s 107us/step - loss: 2.2003 - acc: 0.6700 - val_loss: 0.6184 - val_acc: 0.7895\n",
      "Epoch 6/200\n",
      "3112/3112 [==============================] - 0s 105us/step - loss: 1.3883 - acc: 0.6742 - val_loss: 0.5976 - val_acc: 0.7775\n",
      "Epoch 7/200\n",
      "3112/3112 [==============================] - 0s 106us/step - loss: 1.0632 - acc: 0.6738 - val_loss: 0.6333 - val_acc: 0.7837\n",
      "Epoch 8/200\n",
      "3112/3112 [==============================] - 0s 107us/step - loss: 0.9620 - acc: 0.6665 - val_loss: 0.6419 - val_acc: 0.7495\n",
      "Epoch 9/200\n",
      "3112/3112 [==============================] - 0s 107us/step - loss: 0.8524 - acc: 0.6877 - val_loss: 0.6264 - val_acc: 0.7746\n",
      "Epoch 10/200\n",
      "3112/3112 [==============================] - 0s 106us/step - loss: 0.7788 - acc: 0.7102 - val_loss: 0.5624 - val_acc: 0.8088\n",
      "Epoch 11/200\n",
      "3112/3112 [==============================] - 0s 109us/step - loss: 0.7450 - acc: 0.7188 - val_loss: 0.5403 - val_acc: 0.8203\n",
      "Epoch 12/200\n",
      "3112/3112 [==============================] - 0s 107us/step - loss: 0.6961 - acc: 0.7249 - val_loss: 0.5650 - val_acc: 0.7832\n",
      "Epoch 13/200\n",
      "3112/3112 [==============================] - 0s 106us/step - loss: 0.6698 - acc: 0.7407 - val_loss: 0.4621 - val_acc: 0.8382\n",
      "Epoch 14/200\n",
      "3112/3112 [==============================] - 0s 107us/step - loss: 0.6033 - acc: 0.7722 - val_loss: 0.4681 - val_acc: 0.8203\n",
      "Epoch 15/200\n",
      "3112/3112 [==============================] - 0s 106us/step - loss: 0.6333 - acc: 0.7551 - val_loss: 0.4551 - val_acc: 0.8382\n",
      "Epoch 16/200\n",
      "3112/3112 [==============================] - 0s 105us/step - loss: 0.5635 - acc: 0.7911 - val_loss: 0.4180 - val_acc: 0.8526\n",
      "Epoch 17/200\n",
      "3112/3112 [==============================] - 0s 106us/step - loss: 0.5639 - acc: 0.7796 - val_loss: 0.3991 - val_acc: 0.8627\n",
      "Epoch 18/200\n",
      "3112/3112 [==============================] - 0s 107us/step - loss: 0.5401 - acc: 0.7889 - val_loss: 0.4169 - val_acc: 0.8487\n",
      "Epoch 19/200\n",
      "3112/3112 [==============================] - 0s 102us/step - loss: 0.5048 - acc: 0.8037 - val_loss: 0.3612 - val_acc: 0.8748\n",
      "Epoch 20/200\n",
      "3112/3112 [==============================] - 0s 99us/step - loss: 0.5001 - acc: 0.8091 - val_loss: 0.3555 - val_acc: 0.8704\n",
      "Epoch 21/200\n",
      "3112/3112 [==============================] - 0s 96us/step - loss: 0.5122 - acc: 0.8017 - val_loss: 0.3761 - val_acc: 0.8661\n",
      "Epoch 22/200\n",
      "3112/3112 [==============================] - 0s 96us/step - loss: 0.4694 - acc: 0.8213 - val_loss: 0.3446 - val_acc: 0.8762\n",
      "Epoch 23/200\n",
      "3112/3112 [==============================] - 0s 97us/step - loss: 0.4581 - acc: 0.8265 - val_loss: 0.3375 - val_acc: 0.8781\n",
      "Epoch 24/200\n",
      "3112/3112 [==============================] - 0s 99us/step - loss: 0.4383 - acc: 0.8316 - val_loss: 0.3169 - val_acc: 0.8892\n",
      "Epoch 25/200\n",
      "3112/3112 [==============================] - 0s 101us/step - loss: 0.4142 - acc: 0.8409 - val_loss: 0.3198 - val_acc: 0.8882\n",
      "Epoch 26/200\n",
      "3112/3112 [==============================] - 0s 101us/step - loss: 0.4050 - acc: 0.8487 - val_loss: 0.3363 - val_acc: 0.8796\n",
      "Epoch 27/200\n",
      "3112/3112 [==============================] - 0s 101us/step - loss: 0.3866 - acc: 0.8487 - val_loss: 0.2988 - val_acc: 0.8960\n",
      "Epoch 28/200\n",
      "3112/3112 [==============================] - 0s 102us/step - loss: 0.3859 - acc: 0.8506 - val_loss: 0.2944 - val_acc: 0.8974\n",
      "Epoch 29/200\n",
      "3112/3112 [==============================] - 0s 102us/step - loss: 0.4062 - acc: 0.8470 - val_loss: 0.2972 - val_acc: 0.8931\n",
      "Epoch 30/200\n",
      "3112/3112 [==============================] - 0s 102us/step - loss: 0.3726 - acc: 0.8548 - val_loss: 0.2838 - val_acc: 0.8969\n",
      "Epoch 31/200\n",
      "3112/3112 [==============================] - 0s 101us/step - loss: 0.3700 - acc: 0.8612 - val_loss: 0.2871 - val_acc: 0.8988\n",
      "Epoch 32/200\n",
      "3112/3112 [==============================] - 0s 102us/step - loss: 0.3573 - acc: 0.8647 - val_loss: 0.2784 - val_acc: 0.9032\n",
      "Epoch 33/200\n",
      "3112/3112 [==============================] - 0s 102us/step - loss: 0.3550 - acc: 0.8699 - val_loss: 0.3174 - val_acc: 0.8897\n",
      "Epoch 34/200\n",
      "3112/3112 [==============================] - 0s 102us/step - loss: 0.3299 - acc: 0.8715 - val_loss: 0.2880 - val_acc: 0.8969\n",
      "Epoch 35/200\n",
      "3112/3112 [==============================] - 0s 103us/step - loss: 0.3419 - acc: 0.8666 - val_loss: 0.2917 - val_acc: 0.8931\n",
      "Epoch 36/200\n",
      "3112/3112 [==============================] - 0s 103us/step - loss: 0.3316 - acc: 0.8785 - val_loss: 0.2769 - val_acc: 0.8955\n",
      "Epoch 37/200\n",
      "3112/3112 [==============================] - 0s 101us/step - loss: 0.3106 - acc: 0.8811 - val_loss: 0.2665 - val_acc: 0.9066\n",
      "Epoch 38/200\n",
      "3112/3112 [==============================] - 0s 101us/step - loss: 0.3191 - acc: 0.8872 - val_loss: 0.2721 - val_acc: 0.9041\n",
      "Epoch 39/200\n",
      "3112/3112 [==============================] - 0s 102us/step - loss: 0.2985 - acc: 0.8776 - val_loss: 0.2613 - val_acc: 0.9080\n",
      "Epoch 40/200\n",
      "3112/3112 [==============================] - 0s 103us/step - loss: 0.2870 - acc: 0.8866 - val_loss: 0.2569 - val_acc: 0.9094\n",
      "Epoch 41/200\n",
      "3112/3112 [==============================] - 0s 102us/step - loss: 0.2934 - acc: 0.8888 - val_loss: 0.2548 - val_acc: 0.9128\n",
      "Epoch 42/200\n",
      "3112/3112 [==============================] - 0s 103us/step - loss: 0.2884 - acc: 0.8879 - val_loss: 0.2500 - val_acc: 0.9210\n",
      "Epoch 43/200\n",
      "3112/3112 [==============================] - 0s 103us/step - loss: 0.2835 - acc: 0.8927 - val_loss: 0.2512 - val_acc: 0.9090\n",
      "Epoch 44/200\n",
      "3112/3112 [==============================] - 0s 102us/step - loss: 0.2871 - acc: 0.8904 - val_loss: 0.2520 - val_acc: 0.9143\n",
      "Epoch 45/200\n",
      "3112/3112 [==============================] - 0s 103us/step - loss: 0.2703 - acc: 0.8943 - val_loss: 0.2555 - val_acc: 0.9066\n",
      "Epoch 46/200\n",
      "3112/3112 [==============================] - 0s 102us/step - loss: 0.2777 - acc: 0.8901 - val_loss: 0.2450 - val_acc: 0.9162\n",
      "Epoch 47/200\n",
      "3112/3112 [==============================] - 0s 102us/step - loss: 0.2663 - acc: 0.8994 - val_loss: 0.2391 - val_acc: 0.9196\n",
      "Epoch 48/200\n",
      "3112/3112 [==============================] - 0s 103us/step - loss: 0.2690 - acc: 0.8972 - val_loss: 0.2492 - val_acc: 0.9123\n",
      "Epoch 49/200\n",
      "3112/3112 [==============================] - 0s 104us/step - loss: 0.2540 - acc: 0.9026 - val_loss: 0.2668 - val_acc: 0.9075\n",
      "Epoch 50/200\n",
      "3112/3112 [==============================] - 0s 103us/step - loss: 0.2529 - acc: 0.9046 - val_loss: 0.2427 - val_acc: 0.9167\n",
      "Epoch 51/200\n",
      "3112/3112 [==============================] - 0s 103us/step - loss: 0.2651 - acc: 0.9042 - val_loss: 0.2369 - val_acc: 0.9229\n",
      "Epoch 52/200\n",
      "3112/3112 [==============================] - 0s 103us/step - loss: 0.2434 - acc: 0.9039 - val_loss: 0.2595 - val_acc: 0.9104\n",
      "Epoch 53/200\n",
      "3112/3112 [==============================] - 0s 103us/step - loss: 0.2468 - acc: 0.9075 - val_loss: 0.2456 - val_acc: 0.9147\n",
      "Epoch 54/200\n",
      "3112/3112 [==============================] - 0s 105us/step - loss: 0.2585 - acc: 0.9010 - val_loss: 0.2485 - val_acc: 0.9133\n",
      "Epoch 55/200\n",
      "3112/3112 [==============================] - 0s 104us/step - loss: 0.2246 - acc: 0.9155 - val_loss: 0.2588 - val_acc: 0.9118\n",
      "Epoch 56/200\n",
      "3112/3112 [==============================] - 0s 103us/step - loss: 0.2373 - acc: 0.9091 - val_loss: 0.2360 - val_acc: 0.9152\n",
      "Epoch 57/200\n",
      "3112/3112 [==============================] - 0s 103us/step - loss: 0.2306 - acc: 0.9103 - val_loss: 0.2239 - val_acc: 0.9253\n",
      "Epoch 58/200\n",
      "3112/3112 [==============================] - 0s 103us/step - loss: 0.2387 - acc: 0.9071 - val_loss: 0.2250 - val_acc: 0.9268\n",
      "Epoch 59/200\n",
      "3112/3112 [==============================] - 0s 104us/step - loss: 0.2246 - acc: 0.9190 - val_loss: 0.2478 - val_acc: 0.9114\n",
      "Epoch 60/200\n"
     ]
    },
    {
     "name": "stdout",
     "output_type": "stream",
     "text": [
      "3112/3112 [==============================] - 0s 105us/step - loss: 0.2127 - acc: 0.9190 - val_loss: 0.2316 - val_acc: 0.9205\n",
      "Epoch 61/200\n",
      "3112/3112 [==============================] - 0s 104us/step - loss: 0.2206 - acc: 0.9158 - val_loss: 0.2171 - val_acc: 0.9292\n",
      "Epoch 62/200\n",
      "3112/3112 [==============================] - 0s 104us/step - loss: 0.2072 - acc: 0.9148 - val_loss: 0.2222 - val_acc: 0.9215\n",
      "Epoch 63/200\n",
      "3112/3112 [==============================] - 0s 104us/step - loss: 0.2029 - acc: 0.9271 - val_loss: 0.2413 - val_acc: 0.9162\n",
      "Epoch 64/200\n",
      "3112/3112 [==============================] - 0s 105us/step - loss: 0.2103 - acc: 0.9181 - val_loss: 0.2194 - val_acc: 0.9229\n",
      "Epoch 65/200\n",
      "3112/3112 [==============================] - 0s 104us/step - loss: 0.2026 - acc: 0.9229 - val_loss: 0.2107 - val_acc: 0.9253\n",
      "Epoch 66/200\n",
      "3112/3112 [==============================] - 0s 105us/step - loss: 0.2065 - acc: 0.9219 - val_loss: 0.2371 - val_acc: 0.9196\n",
      "Epoch 67/200\n",
      "3112/3112 [==============================] - 0s 105us/step - loss: 0.1978 - acc: 0.9303 - val_loss: 0.2226 - val_acc: 0.9234\n",
      "Epoch 68/200\n",
      "3112/3112 [==============================] - 0s 105us/step - loss: 0.2075 - acc: 0.9235 - val_loss: 0.2175 - val_acc: 0.9263\n",
      "Epoch 69/200\n",
      "3112/3112 [==============================] - 0s 105us/step - loss: 0.2003 - acc: 0.9200 - val_loss: 0.2170 - val_acc: 0.9253\n",
      "Epoch 70/200\n",
      "3112/3112 [==============================] - 0s 105us/step - loss: 0.1858 - acc: 0.9277 - val_loss: 0.2130 - val_acc: 0.9282\n",
      "Epoch 71/200\n",
      "3112/3112 [==============================] - 0s 104us/step - loss: 0.1914 - acc: 0.9290 - val_loss: 0.2126 - val_acc: 0.9326\n",
      "Epoch 72/200\n",
      "3112/3112 [==============================] - 0s 105us/step - loss: 0.1860 - acc: 0.9332 - val_loss: 0.2202 - val_acc: 0.9268\n",
      "Epoch 73/200\n",
      "3112/3112 [==============================] - 0s 105us/step - loss: 0.1957 - acc: 0.9184 - val_loss: 0.2253 - val_acc: 0.9253\n",
      "Epoch 74/200\n",
      "3112/3112 [==============================] - 0s 107us/step - loss: 0.1905 - acc: 0.9290 - val_loss: 0.2072 - val_acc: 0.9302\n",
      "Epoch 75/200\n",
      "3112/3112 [==============================] - 0s 106us/step - loss: 0.1871 - acc: 0.9283 - val_loss: 0.2094 - val_acc: 0.9316\n",
      "Epoch 76/200\n",
      "3112/3112 [==============================] - 0s 105us/step - loss: 0.1953 - acc: 0.9258 - val_loss: 0.2158 - val_acc: 0.9311\n",
      "Epoch 77/200\n",
      "3112/3112 [==============================] - 0s 105us/step - loss: 0.1843 - acc: 0.9264 - val_loss: 0.2246 - val_acc: 0.9239\n",
      "Epoch 78/200\n",
      "3112/3112 [==============================] - 0s 105us/step - loss: 0.1845 - acc: 0.9344 - val_loss: 0.2204 - val_acc: 0.9249\n",
      "Epoch 79/200\n",
      "3112/3112 [==============================] - 0s 103us/step - loss: 0.1727 - acc: 0.9348 - val_loss: 0.2258 - val_acc: 0.9220\n",
      "Epoch 80/200\n",
      "3112/3112 [==============================] - 0s 105us/step - loss: 0.1713 - acc: 0.9348 - val_loss: 0.2175 - val_acc: 0.9263\n",
      "Epoch 81/200\n",
      "3112/3112 [==============================] - 0s 104us/step - loss: 0.1736 - acc: 0.9325 - val_loss: 0.2219 - val_acc: 0.9302\n",
      "Epoch 82/200\n",
      "3112/3112 [==============================] - 0s 105us/step - loss: 0.1737 - acc: 0.9322 - val_loss: 0.2258 - val_acc: 0.9282\n",
      "Epoch 83/200\n",
      "3112/3112 [==============================] - 0s 104us/step - loss: 0.1646 - acc: 0.9380 - val_loss: 0.1998 - val_acc: 0.9359\n",
      "Epoch 84/200\n",
      "3112/3112 [==============================] - 0s 105us/step - loss: 0.1519 - acc: 0.9422 - val_loss: 0.2134 - val_acc: 0.9321\n",
      "Epoch 85/200\n",
      "3112/3112 [==============================] - 0s 104us/step - loss: 0.1701 - acc: 0.9383 - val_loss: 0.2078 - val_acc: 0.9326\n",
      "Epoch 86/200\n",
      "3112/3112 [==============================] - 0s 103us/step - loss: 0.1535 - acc: 0.9386 - val_loss: 0.2201 - val_acc: 0.9335\n",
      "Epoch 87/200\n",
      "3112/3112 [==============================] - 0s 103us/step - loss: 0.1633 - acc: 0.9425 - val_loss: 0.2185 - val_acc: 0.9239\n",
      "Epoch 88/200\n",
      "3112/3112 [==============================] - 0s 104us/step - loss: 0.1734 - acc: 0.9335 - val_loss: 0.2197 - val_acc: 0.9302\n",
      "Epoch 89/200\n",
      "3112/3112 [==============================] - 0s 105us/step - loss: 0.1511 - acc: 0.9418 - val_loss: 0.2131 - val_acc: 0.9326\n",
      "Epoch 90/200\n",
      "3112/3112 [==============================] - 0s 105us/step - loss: 0.1594 - acc: 0.9386 - val_loss: 0.2071 - val_acc: 0.9340\n",
      "Epoch 91/200\n",
      "3112/3112 [==============================] - 0s 105us/step - loss: 0.1350 - acc: 0.9460 - val_loss: 0.2291 - val_acc: 0.9292\n",
      "Epoch 92/200\n",
      "3112/3112 [==============================] - 0s 104us/step - loss: 0.1450 - acc: 0.9499 - val_loss: 0.2139 - val_acc: 0.9350\n",
      "Epoch 93/200\n",
      "3112/3112 [==============================] - 0s 105us/step - loss: 0.1415 - acc: 0.9438 - val_loss: 0.2039 - val_acc: 0.9287\n",
      "Epoch 94/200\n",
      "3112/3112 [==============================] - 0s 104us/step - loss: 0.1512 - acc: 0.9383 - val_loss: 0.2106 - val_acc: 0.9345\n",
      "Epoch 95/200\n",
      "3112/3112 [==============================] - 0s 104us/step - loss: 0.1376 - acc: 0.9483 - val_loss: 0.2151 - val_acc: 0.9345\n",
      "Epoch 96/200\n",
      "3112/3112 [==============================] - 0s 104us/step - loss: 0.1384 - acc: 0.9502 - val_loss: 0.2268 - val_acc: 0.9326\n",
      "Epoch 97/200\n",
      "3112/3112 [==============================] - 0s 105us/step - loss: 0.1373 - acc: 0.9492 - val_loss: 0.2127 - val_acc: 0.9306\n",
      "Epoch 98/200\n",
      "3112/3112 [==============================] - 0s 105us/step - loss: 0.1468 - acc: 0.9431 - val_loss: 0.2081 - val_acc: 0.9311\n",
      "Epoch 99/200\n",
      "3112/3112 [==============================] - 0s 106us/step - loss: 0.1438 - acc: 0.9418 - val_loss: 0.2015 - val_acc: 0.9379\n",
      "Epoch 100/200\n",
      "3112/3112 [==============================] - 0s 110us/step - loss: 0.1292 - acc: 0.9489 - val_loss: 0.2072 - val_acc: 0.9350\n",
      "Epoch 101/200\n",
      "3112/3112 [==============================] - 0s 107us/step - loss: 0.1169 - acc: 0.9547 - val_loss: 0.2024 - val_acc: 0.9340\n",
      "Epoch 102/200\n",
      "3112/3112 [==============================] - 0s 105us/step - loss: 0.1222 - acc: 0.9534 - val_loss: 0.2126 - val_acc: 0.9350\n",
      "Epoch 103/200\n",
      "3112/3112 [==============================] - 0s 106us/step - loss: 0.1327 - acc: 0.9524 - val_loss: 0.2208 - val_acc: 0.9292\n",
      "Epoch 104/200\n",
      "3112/3112 [==============================] - 0s 110us/step - loss: 0.1409 - acc: 0.9457 - val_loss: 0.2082 - val_acc: 0.9311\n",
      "Epoch 105/200\n",
      "3112/3112 [==============================] - 0s 107us/step - loss: 0.1275 - acc: 0.9492 - val_loss: 0.2316 - val_acc: 0.9282\n",
      "Epoch 106/200\n",
      "3112/3112 [==============================] - 0s 107us/step - loss: 0.1335 - acc: 0.9499 - val_loss: 0.2118 - val_acc: 0.9335\n",
      "Epoch 107/200\n",
      "3112/3112 [==============================] - 0s 106us/step - loss: 0.1168 - acc: 0.9589 - val_loss: 0.2121 - val_acc: 0.9316\n",
      "Epoch 108/200\n",
      "3112/3112 [==============================] - 0s 105us/step - loss: 0.1246 - acc: 0.9537 - val_loss: 0.2121 - val_acc: 0.9292\n",
      "Epoch 109/200\n",
      "3112/3112 [==============================] - 0s 109us/step - loss: 0.1266 - acc: 0.9534 - val_loss: 0.2047 - val_acc: 0.9359\n",
      "Epoch 110/200\n",
      "3112/3112 [==============================] - 0s 106us/step - loss: 0.1234 - acc: 0.9518 - val_loss: 0.2098 - val_acc: 0.9364\n",
      "Epoch 111/200\n",
      "3112/3112 [==============================] - 0s 106us/step - loss: 0.1095 - acc: 0.9566 - val_loss: 0.2190 - val_acc: 0.9330\n",
      "Epoch 112/200\n",
      "3112/3112 [==============================] - 0s 107us/step - loss: 0.1348 - acc: 0.9521 - val_loss: 0.2092 - val_acc: 0.9330\n",
      "Epoch 113/200\n",
      "3112/3112 [==============================] - 0s 109us/step - loss: 0.1273 - acc: 0.9534 - val_loss: 0.2171 - val_acc: 0.9321\n",
      "Epoch 114/200\n",
      "3112/3112 [==============================] - 0s 111us/step - loss: 0.1267 - acc: 0.9515 - val_loss: 0.2175 - val_acc: 0.9355\n",
      "Epoch 115/200\n",
      "3112/3112 [==============================] - 0s 107us/step - loss: 0.1139 - acc: 0.9563 - val_loss: 0.2142 - val_acc: 0.9335\n",
      "Epoch 116/200\n",
      "3112/3112 [==============================] - 0s 106us/step - loss: 0.1080 - acc: 0.9630 - val_loss: 0.2046 - val_acc: 0.9383\n",
      "Epoch 117/200\n",
      "3112/3112 [==============================] - 0s 105us/step - loss: 0.1169 - acc: 0.9589 - val_loss: 0.2134 - val_acc: 0.9359\n",
      "Epoch 118/200\n",
      "3112/3112 [==============================] - 0s 105us/step - loss: 0.1058 - acc: 0.9595 - val_loss: 0.2176 - val_acc: 0.9364\n",
      "Epoch 119/200\n"
     ]
    },
    {
     "name": "stdout",
     "output_type": "stream",
     "text": [
      "3112/3112 [==============================] - 0s 99us/step - loss: 0.1139 - acc: 0.9592 - val_loss: 0.2088 - val_acc: 0.9340\n",
      "Epoch 120/200\n",
      "3112/3112 [==============================] - 0s 97us/step - loss: 0.1132 - acc: 0.9592 - val_loss: 0.2110 - val_acc: 0.9364\n",
      "Epoch 121/200\n",
      "3112/3112 [==============================] - 0s 97us/step - loss: 0.1171 - acc: 0.9550 - val_loss: 0.2133 - val_acc: 0.9306\n",
      "Epoch 122/200\n",
      "3112/3112 [==============================] - 0s 98us/step - loss: 0.0998 - acc: 0.9621 - val_loss: 0.2111 - val_acc: 0.9393\n",
      "Epoch 123/200\n",
      "3112/3112 [==============================] - 0s 98us/step - loss: 0.1182 - acc: 0.9592 - val_loss: 0.2209 - val_acc: 0.9345\n",
      "Epoch 124/200\n",
      "3112/3112 [==============================] - 0s 98us/step - loss: 0.1198 - acc: 0.9598 - val_loss: 0.2133 - val_acc: 0.9383\n",
      "Epoch 125/200\n",
      "3112/3112 [==============================] - 0s 97us/step - loss: 0.1036 - acc: 0.9624 - val_loss: 0.2099 - val_acc: 0.9345\n",
      "Epoch 126/200\n",
      "3112/3112 [==============================] - 0s 98us/step - loss: 0.1013 - acc: 0.9634 - val_loss: 0.2098 - val_acc: 0.9350\n",
      "Epoch 127/200\n",
      "3112/3112 [==============================] - 0s 98us/step - loss: 0.0962 - acc: 0.9634 - val_loss: 0.2062 - val_acc: 0.9417\n",
      "Epoch 128/200\n",
      "3112/3112 [==============================] - 0s 97us/step - loss: 0.1078 - acc: 0.9592 - val_loss: 0.2071 - val_acc: 0.9383\n",
      "Epoch 129/200\n",
      "3112/3112 [==============================] - 0s 98us/step - loss: 0.0958 - acc: 0.9659 - val_loss: 0.2124 - val_acc: 0.9335\n",
      "Epoch 130/200\n",
      "3112/3112 [==============================] - 0s 97us/step - loss: 0.1145 - acc: 0.9595 - val_loss: 0.2141 - val_acc: 0.9379\n",
      "Epoch 131/200\n",
      "3112/3112 [==============================] - 0s 97us/step - loss: 0.1005 - acc: 0.9637 - val_loss: 0.2098 - val_acc: 0.9383\n",
      "Epoch 132/200\n",
      "3112/3112 [==============================] - 0s 98us/step - loss: 0.1093 - acc: 0.9589 - val_loss: 0.2147 - val_acc: 0.9364\n",
      "Epoch 133/200\n",
      "3112/3112 [==============================] - 0s 98us/step - loss: 0.0976 - acc: 0.9647 - val_loss: 0.2102 - val_acc: 0.9388\n",
      "Epoch 134/200\n",
      "3112/3112 [==============================] - 0s 99us/step - loss: 0.1002 - acc: 0.9618 - val_loss: 0.2213 - val_acc: 0.9345\n",
      "Epoch 135/200\n",
      "3112/3112 [==============================] - 0s 97us/step - loss: 0.0956 - acc: 0.9637 - val_loss: 0.2099 - val_acc: 0.9417\n",
      "Epoch 136/200\n",
      "3112/3112 [==============================] - 0s 98us/step - loss: 0.0926 - acc: 0.9656 - val_loss: 0.2054 - val_acc: 0.9345\n",
      "Epoch 137/200\n",
      "3112/3112 [==============================] - 0s 98us/step - loss: 0.0950 - acc: 0.9637 - val_loss: 0.2064 - val_acc: 0.9321\n",
      "Epoch 138/200\n",
      "3112/3112 [==============================] - 0s 100us/step - loss: 0.0897 - acc: 0.9637 - val_loss: 0.2144 - val_acc: 0.9340\n",
      "Epoch 139/200\n",
      "3112/3112 [==============================] - 0s 101us/step - loss: 0.1033 - acc: 0.9630 - val_loss: 0.1991 - val_acc: 0.9427\n",
      "Epoch 140/200\n",
      "3112/3112 [==============================] - 0s 101us/step - loss: 0.0882 - acc: 0.9656 - val_loss: 0.2216 - val_acc: 0.9364\n",
      "Epoch 141/200\n",
      "3112/3112 [==============================] - 0s 99us/step - loss: 0.0853 - acc: 0.9679 - val_loss: 0.2095 - val_acc: 0.9379\n",
      "Epoch 142/200\n",
      "3112/3112 [==============================] - 0s 97us/step - loss: 0.0945 - acc: 0.9653 - val_loss: 0.2037 - val_acc: 0.9408\n",
      "Epoch 143/200\n",
      "3112/3112 [==============================] - 0s 98us/step - loss: 0.0872 - acc: 0.9672 - val_loss: 0.2042 - val_acc: 0.9355\n",
      "Epoch 144/200\n",
      "3112/3112 [==============================] - 0s 98us/step - loss: 0.0977 - acc: 0.9634 - val_loss: 0.2144 - val_acc: 0.9383\n",
      "Epoch 145/200\n",
      "3112/3112 [==============================] - 0s 97us/step - loss: 0.0845 - acc: 0.9650 - val_loss: 0.2169 - val_acc: 0.9427\n",
      "Epoch 146/200\n",
      "3112/3112 [==============================] - 0s 97us/step - loss: 0.0935 - acc: 0.9679 - val_loss: 0.2123 - val_acc: 0.9350\n",
      "Epoch 147/200\n",
      "3112/3112 [==============================] - 0s 98us/step - loss: 0.0829 - acc: 0.9730 - val_loss: 0.2096 - val_acc: 0.9417\n",
      "Epoch 148/200\n",
      "3112/3112 [==============================] - 0s 98us/step - loss: 0.0877 - acc: 0.9708 - val_loss: 0.2067 - val_acc: 0.9412\n",
      "Epoch 149/200\n",
      "3112/3112 [==============================] - 0s 97us/step - loss: 0.0819 - acc: 0.9695 - val_loss: 0.2123 - val_acc: 0.9345\n",
      "Epoch 150/200\n",
      "3112/3112 [==============================] - 0s 97us/step - loss: 0.0988 - acc: 0.9618 - val_loss: 0.2077 - val_acc: 0.9403\n",
      "Epoch 151/200\n",
      "3112/3112 [==============================] - 0s 97us/step - loss: 0.0795 - acc: 0.9688 - val_loss: 0.2158 - val_acc: 0.9422\n",
      "Epoch 152/200\n",
      "3112/3112 [==============================] - 0s 97us/step - loss: 0.0983 - acc: 0.9640 - val_loss: 0.2266 - val_acc: 0.9340\n",
      "Epoch 153/200\n",
      "3112/3112 [==============================] - 0s 97us/step - loss: 0.0849 - acc: 0.9682 - val_loss: 0.2123 - val_acc: 0.9388\n",
      "Epoch 154/200\n",
      "3112/3112 [==============================] - 0s 97us/step - loss: 0.0906 - acc: 0.9666 - val_loss: 0.2057 - val_acc: 0.9393\n",
      "Epoch 155/200\n",
      "3112/3112 [==============================] - 0s 97us/step - loss: 0.0804 - acc: 0.9688 - val_loss: 0.2221 - val_acc: 0.9321\n",
      "Epoch 156/200\n",
      "3112/3112 [==============================] - 0s 97us/step - loss: 0.0771 - acc: 0.9717 - val_loss: 0.2111 - val_acc: 0.9374\n",
      "Epoch 157/200\n",
      "3112/3112 [==============================] - 0s 97us/step - loss: 0.0952 - acc: 0.9675 - val_loss: 0.2122 - val_acc: 0.9374\n",
      "Epoch 158/200\n",
      "3112/3112 [==============================] - 0s 97us/step - loss: 0.0779 - acc: 0.9724 - val_loss: 0.2222 - val_acc: 0.9321\n",
      "Epoch 159/200\n",
      "3112/3112 [==============================] - 0s 97us/step - loss: 0.0756 - acc: 0.9727 - val_loss: 0.2085 - val_acc: 0.9412\n",
      "Epoch 160/200\n",
      "3112/3112 [==============================] - 0s 99us/step - loss: 0.0878 - acc: 0.9663 - val_loss: 0.2164 - val_acc: 0.9379\n",
      "Epoch 161/200\n",
      "3112/3112 [==============================] - 0s 98us/step - loss: 0.0872 - acc: 0.9675 - val_loss: 0.2201 - val_acc: 0.9364\n",
      "Epoch 162/200\n",
      "3112/3112 [==============================] - 0s 98us/step - loss: 0.0748 - acc: 0.9746 - val_loss: 0.2012 - val_acc: 0.9432\n",
      "Epoch 163/200\n",
      "3112/3112 [==============================] - 0s 98us/step - loss: 0.0798 - acc: 0.9682 - val_loss: 0.2148 - val_acc: 0.9422\n",
      "Epoch 164/200\n",
      "3112/3112 [==============================] - 0s 97us/step - loss: 0.0832 - acc: 0.9711 - val_loss: 0.2078 - val_acc: 0.9383\n",
      "Epoch 165/200\n",
      "3112/3112 [==============================] - 0s 96us/step - loss: 0.0774 - acc: 0.9727 - val_loss: 0.2085 - val_acc: 0.9355\n",
      "Epoch 166/200\n",
      "3112/3112 [==============================] - 0s 97us/step - loss: 0.0843 - acc: 0.9685 - val_loss: 0.2170 - val_acc: 0.9436\n",
      "Epoch 167/200\n",
      "3112/3112 [==============================] - 0s 99us/step - loss: 0.0741 - acc: 0.9724 - val_loss: 0.2193 - val_acc: 0.9379\n",
      "Epoch 168/200\n",
      "3112/3112 [==============================] - 0s 101us/step - loss: 0.0813 - acc: 0.9724 - val_loss: 0.2173 - val_acc: 0.9422\n",
      "Epoch 169/200\n",
      "3112/3112 [==============================] - 0s 99us/step - loss: 0.0758 - acc: 0.9727 - val_loss: 0.2056 - val_acc: 0.9379\n",
      "Epoch 170/200\n",
      "3112/3112 [==============================] - 0s 101us/step - loss: 0.0761 - acc: 0.9727 - val_loss: 0.2111 - val_acc: 0.9379\n",
      "Epoch 171/200\n",
      "3112/3112 [==============================] - 0s 105us/step - loss: 0.0730 - acc: 0.9714 - val_loss: 0.2102 - val_acc: 0.9412\n",
      "Epoch 172/200\n",
      "3112/3112 [==============================] - 0s 99us/step - loss: 0.0746 - acc: 0.9749 - val_loss: 0.2298 - val_acc: 0.9388\n",
      "Epoch 173/200\n",
      "3112/3112 [==============================] - 0s 97us/step - loss: 0.0745 - acc: 0.9756 - val_loss: 0.2165 - val_acc: 0.9408\n",
      "Epoch 174/200\n",
      "3112/3112 [==============================] - 0s 96us/step - loss: 0.0838 - acc: 0.9704 - val_loss: 0.2162 - val_acc: 0.9364\n",
      "Epoch 175/200\n",
      "3112/3112 [==============================] - 0s 98us/step - loss: 0.0697 - acc: 0.9733 - val_loss: 0.2225 - val_acc: 0.9364\n",
      "Epoch 176/200\n",
      "3112/3112 [==============================] - 0s 97us/step - loss: 0.0725 - acc: 0.9698 - val_loss: 0.2092 - val_acc: 0.9388\n",
      "Epoch 177/200\n",
      "3112/3112 [==============================] - 0s 97us/step - loss: 0.0716 - acc: 0.9753 - val_loss: 0.2375 - val_acc: 0.9287\n",
      "Epoch 178/200\n"
     ]
    },
    {
     "name": "stdout",
     "output_type": "stream",
     "text": [
      "3112/3112 [==============================] - 0s 99us/step - loss: 0.0757 - acc: 0.9749 - val_loss: 0.2171 - val_acc: 0.9369\n",
      "Epoch 179/200\n",
      "3112/3112 [==============================] - 0s 98us/step - loss: 0.0800 - acc: 0.9730 - val_loss: 0.2115 - val_acc: 0.9432\n",
      "Epoch 180/200\n",
      "3112/3112 [==============================] - 0s 97us/step - loss: 0.0786 - acc: 0.9708 - val_loss: 0.2125 - val_acc: 0.9422\n",
      "Epoch 181/200\n",
      "3112/3112 [==============================] - 0s 98us/step - loss: 0.0576 - acc: 0.9791 - val_loss: 0.2168 - val_acc: 0.9393\n",
      "Epoch 182/200\n",
      "3112/3112 [==============================] - 0s 97us/step - loss: 0.0800 - acc: 0.9717 - val_loss: 0.2081 - val_acc: 0.9408\n",
      "Epoch 183/200\n",
      "3112/3112 [==============================] - 0s 98us/step - loss: 0.0693 - acc: 0.9778 - val_loss: 0.2168 - val_acc: 0.9422\n",
      "Epoch 184/200\n",
      "3112/3112 [==============================] - 0s 98us/step - loss: 0.0595 - acc: 0.9778 - val_loss: 0.2159 - val_acc: 0.9393\n",
      "Epoch 185/200\n",
      "3112/3112 [==============================] - 0s 98us/step - loss: 0.0745 - acc: 0.9720 - val_loss: 0.2186 - val_acc: 0.9403\n",
      "Epoch 186/200\n",
      "3112/3112 [==============================] - 0s 97us/step - loss: 0.0714 - acc: 0.9740 - val_loss: 0.2200 - val_acc: 0.9374\n",
      "Epoch 187/200\n",
      "3112/3112 [==============================] - 0s 97us/step - loss: 0.0641 - acc: 0.9778 - val_loss: 0.2091 - val_acc: 0.9403\n",
      "Epoch 188/200\n",
      "3112/3112 [==============================] - 0s 97us/step - loss: 0.0639 - acc: 0.9749 - val_loss: 0.2187 - val_acc: 0.9359\n",
      "Epoch 189/200\n",
      "3112/3112 [==============================] - 0s 97us/step - loss: 0.0670 - acc: 0.9737 - val_loss: 0.2256 - val_acc: 0.9330\n",
      "Epoch 190/200\n",
      "3112/3112 [==============================] - 0s 98us/step - loss: 0.0619 - acc: 0.9772 - val_loss: 0.2197 - val_acc: 0.9412\n",
      "Epoch 191/200\n",
      "3112/3112 [==============================] - 0s 97us/step - loss: 0.0790 - acc: 0.9704 - val_loss: 0.2205 - val_acc: 0.9330\n",
      "Epoch 192/200\n",
      "3112/3112 [==============================] - 0s 98us/step - loss: 0.0670 - acc: 0.9785 - val_loss: 0.2207 - val_acc: 0.9383\n",
      "Epoch 193/200\n",
      "3112/3112 [==============================] - 0s 101us/step - loss: 0.0648 - acc: 0.9775 - val_loss: 0.2123 - val_acc: 0.9408\n",
      "Epoch 194/200\n",
      "3112/3112 [==============================] - 0s 100us/step - loss: 0.0614 - acc: 0.9749 - val_loss: 0.2165 - val_acc: 0.9359\n",
      "Epoch 195/200\n",
      "3112/3112 [==============================] - 0s 104us/step - loss: 0.0599 - acc: 0.9759 - val_loss: 0.2248 - val_acc: 0.9364\n",
      "Epoch 196/200\n",
      "3112/3112 [==============================] - 0s 101us/step - loss: 0.0623 - acc: 0.9762 - val_loss: 0.2332 - val_acc: 0.9379\n",
      "Epoch 197/200\n",
      "3112/3112 [==============================] - 0s 100us/step - loss: 0.0598 - acc: 0.9788 - val_loss: 0.2071 - val_acc: 0.9398\n",
      "Epoch 198/200\n",
      "3112/3112 [==============================] - 0s 98us/step - loss: 0.0619 - acc: 0.9762 - val_loss: 0.2212 - val_acc: 0.9398\n",
      "Epoch 199/200\n",
      "3112/3112 [==============================] - 0s 97us/step - loss: 0.0596 - acc: 0.9759 - val_loss: 0.2102 - val_acc: 0.9422\n",
      "Epoch 200/200\n",
      "3112/3112 [==============================] - 0s 98us/step - loss: 0.0599 - acc: 0.9785 - val_loss: 0.2158 - val_acc: 0.9441\n"
     ]
    },
    {
     "data": {
      "text/plain": [
       "<keras.callbacks.History at 0x1947ceea748>"
      ]
     },
     "execution_count": 188,
     "metadata": {},
     "output_type": "execute_result"
    }
   ],
   "source": [
    "model.fit(X_train, y_train_hot, batch_size=100, epochs=200, verbose=1, validation_data=(X_test, y_test_hot))"
   ]
  },
  {
   "cell_type": "code",
   "execution_count": 166,
   "metadata": {
    "collapsed": true
   },
   "outputs": [],
   "source": [
    "from keras.datasets import mnist"
   ]
  },
  {
   "cell_type": "code",
   "execution_count": 167,
   "metadata": {
    "collapsed": true
   },
   "outputs": [],
   "source": [
    "(x_train, y_train), (x_test, y_test) = mnist.load_data()"
   ]
  },
  {
   "cell_type": "code",
   "execution_count": 170,
   "metadata": {},
   "outputs": [
    {
     "data": {
      "text/plain": [
       "(60000, 28, 28)"
      ]
     },
     "execution_count": 170,
     "metadata": {},
     "output_type": "execute_result"
    }
   ],
   "source": [
    "x_train.shape"
   ]
  },
  {
   "cell_type": "code",
   "execution_count": 171,
   "metadata": {},
   "outputs": [
    {
     "data": {
      "text/plain": [
       "(2067, 20, 11)"
      ]
     },
     "execution_count": 171,
     "metadata": {},
     "output_type": "execute_result"
    }
   ],
   "source": [
    "X_train.shape"
   ]
  },
  {
   "cell_type": "code",
   "execution_count": 173,
   "metadata": {},
   "outputs": [],
   "source": [
    "x_train = x_train.reshape(x_train.shape[0], 28, 28, 1)"
   ]
  },
  {
   "cell_type": "code",
   "execution_count": 174,
   "metadata": {},
   "outputs": [
    {
     "data": {
      "text/plain": [
       "(60000, 28, 28, 1)"
      ]
     },
     "execution_count": 174,
     "metadata": {},
     "output_type": "execute_result"
    }
   ],
   "source": [
    "x_train.shape"
   ]
  },
  {
   "cell_type": "code",
   "execution_count": 175,
   "metadata": {
    "collapsed": true
   },
   "outputs": [],
   "source": [
    "X_train = X_train.reshape(X_train.shape[0], 20, 11, 1)"
   ]
  },
  {
   "cell_type": "code",
   "execution_count": 176,
   "metadata": {},
   "outputs": [
    {
     "data": {
      "text/plain": [
       "(2067, 20, 11, 1)"
      ]
     },
     "execution_count": 176,
     "metadata": {},
     "output_type": "execute_result"
    }
   ],
   "source": [
    "X_train.shape"
   ]
  },
  {
   "cell_type": "code",
   "execution_count": 177,
   "metadata": {
    "collapsed": true
   },
   "outputs": [],
   "source": [
    "X_test = X_test.reshape(X_test.shape[0], 20, 11, 1)"
   ]
  },
  {
   "cell_type": "code",
   "execution_count": 178,
   "metadata": {},
   "outputs": [
    {
     "data": {
      "text/plain": [
       "(1379, 20, 11, 1)"
      ]
     },
     "execution_count": 178,
     "metadata": {},
     "output_type": "execute_result"
    }
   ],
   "source": [
    "X_test.shape"
   ]
  },
  {
   "cell_type": "code",
   "execution_count": 181,
   "metadata": {},
   "outputs": [
    {
     "name": "stdout",
     "output_type": "stream",
     "text": [
      "1379/1379 [==============================] - 0s 50us/step\n"
     ]
    }
   ],
   "source": [
    "score = model.evaluate(X_test, y_test_hot, verbose=1)"
   ]
  },
  {
   "cell_type": "code",
   "execution_count": 182,
   "metadata": {},
   "outputs": [
    {
     "data": {
      "text/plain": [
       "[0.20928560227879672, 0.95213923132704859]"
      ]
     },
     "execution_count": 182,
     "metadata": {},
     "output_type": "execute_result"
    }
   ],
   "source": [
    "score"
   ]
  },
  {
   "cell_type": "code",
   "execution_count": 198,
   "metadata": {
    "collapsed": true
   },
   "outputs": [],
   "source": [
    "mfcc = wav2mfcc('./data/happy/012c8314_nohash_0.wav')"
   ]
  },
  {
   "cell_type": "code",
   "execution_count": 199,
   "metadata": {},
   "outputs": [],
   "source": [
    "mfcc_reshaped = mfcc.reshape(1, 20, 11, 1)"
   ]
  },
  {
   "cell_type": "code",
   "execution_count": 200,
   "metadata": {},
   "outputs": [
    {
     "data": {
      "text/plain": [
       "(1, 20, 11, 1)"
      ]
     },
     "execution_count": 200,
     "metadata": {},
     "output_type": "execute_result"
    }
   ],
   "source": [
    "mfcc_reshaped.shape"
   ]
  },
  {
   "cell_type": "code",
   "execution_count": 201,
   "metadata": {},
   "outputs": [
    {
     "data": {
      "text/plain": [
       "2"
      ]
     },
     "execution_count": 201,
     "metadata": {},
     "output_type": "execute_result"
    }
   ],
   "source": [
    "np.argmax(model.predict(mfcc_reshaped))"
   ]
  },
  {
   "cell_type": "code",
   "execution_count": 197,
   "metadata": {},
   "outputs": [
    {
     "data": {
      "text/plain": [
       "(['bed', 'cat', 'happy'], array([0, 1, 2]), array([[ 1.,  0.,  0.],\n",
       "        [ 0.,  1.,  0.],\n",
       "        [ 0.,  0.,  1.]]))"
      ]
     },
     "execution_count": 197,
     "metadata": {},
     "output_type": "execute_result"
    }
   ],
   "source": [
    "get_labels()"
   ]
  },
  {
   "cell_type": "code",
   "execution_count": null,
   "metadata": {
    "collapsed": true
   },
   "outputs": [],
   "source": []
  }
 ],
 "metadata": {
  "kernelspec": {
   "display_name": "Py35k",
   "language": "python",
   "name": "py35k"
  },
  "language_info": {
   "codemirror_mode": {
    "name": "ipython",
    "version": 3
   },
   "file_extension": ".py",
   "mimetype": "text/x-python",
   "name": "python",
   "nbconvert_exporter": "python",
   "pygments_lexer": "ipython3",
   "version": "3.5.4"
  }
 },
 "nbformat": 4,
 "nbformat_minor": 2
}
